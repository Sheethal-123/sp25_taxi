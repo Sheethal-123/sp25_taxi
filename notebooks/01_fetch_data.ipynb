{
 "cells": [
  {
   "cell_type": "code",
   "execution_count": 1,
   "id": "3ded332d-7fab-49a5-80a0-76040f1d7e49",
   "metadata": {},
   "outputs": [],
   "source": [
    "from pathlib import Path\n",
    "import pandas as pd\n",
    "import requests\n",
    "\n",
    "def fetch_raw_data(year: int, month: int) -> str:\n",
    "    url = f\"https://d37ci6vzurychx.cloudfront.net/trip-data/yellow_tripdata_{year}-{month:02}.parquet\"\n",
    "    response = requests.get(url)\n",
    "    if response.status_code == 200:\n",
    "        # Use pathlib to construct the path\n",
    "        path = Path(\"..\") / \"data\" / \"raw\" / f\"rides_{year}_{month:02}.parquet\"\n",
    "        # Ensure the parent directory exists\n",
    "        path.parent.mkdir(parents=True, exist_ok=True)\n",
    "        # Write the content to the file\n",
    "        path.write_bytes(response.content)\n",
    "        print(f\"Successfully fetched: {str(path)}\")\n",
    "        return str(path)\n",
    "    else:\n",
    "        raise Exception(f\"{url} is not available\")"
   ]
  },
  {
   "cell_type": "code",
   "execution_count": 2,
   "id": "5a5f5f95-de40-4791-b690-119e1378e051",
   "metadata": {},
   "outputs": [
    {
     "name": "stdout",
     "output_type": "stream",
     "text": [
      "Successfully fetched: ..\\data\\raw\\rides_2023_01.parquet\n"
     ]
    },
    {
     "data": {
      "text/plain": [
       "'..\\\\data\\\\raw\\\\rides_2023_01.parquet'"
      ]
     },
     "execution_count": 2,
     "metadata": {},
     "output_type": "execute_result"
    }
   ],
   "source": [
    "fetch_raw_data(2023, 1)"
   ]
  },
  {
   "cell_type": "code",
   "execution_count": null,
   "id": "cc88dba4-d554-42b9-b47e-f9278bfb3142",
   "metadata": {},
   "outputs": [],
   "source": []
  }
 ],
 "metadata": {
  "kernelspec": {
   "display_name": "Python 3 (ipykernel)",
   "language": "python",
   "name": "python3"
  },
  "language_info": {
   "codemirror_mode": {
    "name": "ipython",
    "version": 3
   },
   "file_extension": ".py",
   "mimetype": "text/x-python",
   "name": "python",
   "nbconvert_exporter": "python",
   "pygments_lexer": "ipython3",
   "version": "3.11.11"
  }
 },
 "nbformat": 4,
 "nbformat_minor": 5
}
