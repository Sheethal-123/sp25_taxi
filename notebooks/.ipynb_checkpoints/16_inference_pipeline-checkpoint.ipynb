{
 "cells": [
  {
   "cell_type": "code",
   "execution_count": 1,
   "id": "cc080774-f41a-4503-a064-c0ac819eeb99",
   "metadata": {},
   "outputs": [],
   "source": [
    "# Reg fetch new batch of features and compute predictions and save to feature store\n",
    "# "
   ]
  },
  {
   "cell_type": "code",
   "execution_count": 2,
   "id": "4bd038bf-8550-420b-9ec2-308198fca80f",
   "metadata": {},
   "outputs": [],
   "source": [
    "%load_ext autoreload\n",
    "%autoreload 2"
   ]
  },
  {
   "cell_type": "code",
   "execution_count": 3,
   "id": "46b8ae0d-58dd-4772-8931-25ff5fccb749",
   "metadata": {},
   "outputs": [],
   "source": [
    "import sys\n",
    "import os\n",
    "\n",
    "# Add the parent directory to the Python path\n",
    "sys.path.append(os.path.abspath(os.path.join(os.getcwd(), \"..\")))\n",
    "import src.config as config"
   ]
  },
  {
   "cell_type": "code",
   "execution_count": 4,
   "id": "26612685-265e-4415-a149-5751be8f994d",
   "metadata": {},
   "outputs": [
    {
     "name": "stdout",
     "output_type": "stream",
     "text": [
      "2025-03-05 20:19:33,151 INFO: Initializing external client\n",
      "2025-03-05 20:19:33,153 INFO: Base URL: https://c.app.hopsworks.ai:443\n",
      "2025-03-05 20:19:34,083 INFO: Python Engine initialized.\n",
      "\n",
      "Logged in to project, explore it here https://c.app.hopsworks.ai:443/p/1214674\n",
      "Fetching data from 2025-02-05 01:19:33.147265+00:00 to 2025-03-06 00:19:33.147265+00:00\n",
      "Finished: Reading data from Hopsworks, using Hopsworks Feature Query Service (6.67s) \n"
     ]
    }
   ],
   "source": [
    "from src.inference import get_feature_store\n",
    "from datetime import datetime, timedelta\n",
    "import pandas as pd  \n",
    "import hopsworks\n",
    "# Get the current datetime64[us, Etc/UTC]  \n",
    "current_date = pd.Timestamp.now(tz='Etc/UTC')\n",
    "feature_store = get_feature_store()\n",
    "\n",
    "# read time-series data from the feature store\n",
    "fetch_data_to = current_date - timedelta(hours=1)\n",
    "fetch_data_from = current_date - timedelta(days=1*29)\n",
    "print(f\"Fetching data from {fetch_data_from} to {fetch_data_to}\")\n",
    "feature_view = feature_store.get_feature_view(\n",
    "    name=config.FEATURE_VIEW_NAME, version=config.FEATURE_VIEW_VERSION\n",
    ")\n",
    "\n",
    "ts_data = feature_view.get_batch_data(\n",
    "    start_time=(fetch_data_from - timedelta(days=1)),\n",
    "    end_time=(fetch_data_to + timedelta(days=1)),\n",
    ")\n",
    "ts_data = ts_data[ts_data.pickup_hour.between(fetch_data_from, fetch_data_to)]\n",
    "ts_data.sort_values([\"pickup_location_id\", \"pickup_hour\"]).reset_index(drop=True)\n",
    "ts_data[\"pickup_hour\"] = ts_data[\"pickup_hour\"].dt.tz_localize(None)\n",
    "\n",
    "from src.data_utils import transform_ts_data_info_features\n",
    "features = transform_ts_data_info_features(ts_data, window_size=24*28, step_size=23)"
   ]
  },
  {
   "cell_type": "code",
   "execution_count": 5,
   "id": "22253dce-140a-4296-a48b-35c6c7655b90",
   "metadata": {},
   "outputs": [
    {
     "name": "stdout",
     "output_type": "stream",
     "text": [
      "2025-03-05 20:19:50,178 INFO: Closing external client and cleaning up certificates.\n",
      "Connection closed.\n",
      "2025-03-05 20:19:50,194 INFO: Initializing external client\n",
      "2025-03-05 20:19:50,196 INFO: Base URL: https://c.app.hopsworks.ai:443\n",
      "2025-03-05 20:19:51,008 INFO: Python Engine initialized.\n",
      "\n",
      "Logged in to project, explore it here https://c.app.hopsworks.ai:443/p/1214674\n",
      "Downloading model artifact (0 dirs, 1 files)... DONE"
     ]
    }
   ],
   "source": [
    "from src.inference import load_model_from_registry\n",
    "\n",
    "model = load_model_from_registry()"
   ]
  },
  {
   "cell_type": "code",
   "execution_count": 6,
   "id": "b868f801-03a3-4d51-8e24-88231e664f29",
   "metadata": {},
   "outputs": [],
   "source": [
    "from src.inference import get_model_predictions\n",
    "predictions = get_model_predictions(model, features)"
   ]
  },
  {
   "cell_type": "code",
   "execution_count": 7,
   "id": "751d63ab-8e98-4087-a3cf-d79bd1bd88e5",
   "metadata": {},
   "outputs": [
    {
     "data": {
      "text/html": [
       "<div>\n",
       "<style scoped>\n",
       "    .dataframe tbody tr th:only-of-type {\n",
       "        vertical-align: middle;\n",
       "    }\n",
       "\n",
       "    .dataframe tbody tr th {\n",
       "        vertical-align: top;\n",
       "    }\n",
       "\n",
       "    .dataframe thead th {\n",
       "        text-align: right;\n",
       "    }\n",
       "</style>\n",
       "<table border=\"1\" class=\"dataframe\">\n",
       "  <thead>\n",
       "    <tr style=\"text-align: right;\">\n",
       "      <th></th>\n",
       "      <th>pickup_location_id</th>\n",
       "      <th>predicted_demand</th>\n",
       "      <th>pickup_hour</th>\n",
       "    </tr>\n",
       "  </thead>\n",
       "  <tbody>\n",
       "    <tr>\n",
       "      <th>0</th>\n",
       "      <td>210</td>\n",
       "      <td>0.0</td>\n",
       "      <td>2025-03-06 02:00:00+00:00</td>\n",
       "    </tr>\n",
       "    <tr>\n",
       "      <th>1</th>\n",
       "      <td>261</td>\n",
       "      <td>7.0</td>\n",
       "      <td>2025-03-06 02:00:00+00:00</td>\n",
       "    </tr>\n",
       "    <tr>\n",
       "      <th>2</th>\n",
       "      <td>69</td>\n",
       "      <td>0.0</td>\n",
       "      <td>2025-03-06 02:00:00+00:00</td>\n",
       "    </tr>\n",
       "    <tr>\n",
       "      <th>3</th>\n",
       "      <td>155</td>\n",
       "      <td>0.0</td>\n",
       "      <td>2025-03-06 02:00:00+00:00</td>\n",
       "    </tr>\n",
       "    <tr>\n",
       "      <th>4</th>\n",
       "      <td>85</td>\n",
       "      <td>1.0</td>\n",
       "      <td>2025-03-06 02:00:00+00:00</td>\n",
       "    </tr>\n",
       "    <tr>\n",
       "      <th>...</th>\n",
       "      <td>...</td>\n",
       "      <td>...</td>\n",
       "      <td>...</td>\n",
       "    </tr>\n",
       "    <tr>\n",
       "      <th>247</th>\n",
       "      <td>62</td>\n",
       "      <td>0.0</td>\n",
       "      <td>2025-03-06 02:00:00+00:00</td>\n",
       "    </tr>\n",
       "    <tr>\n",
       "      <th>248</th>\n",
       "      <td>74</td>\n",
       "      <td>11.0</td>\n",
       "      <td>2025-03-06 02:00:00+00:00</td>\n",
       "    </tr>\n",
       "    <tr>\n",
       "      <th>249</th>\n",
       "      <td>50</td>\n",
       "      <td>14.0</td>\n",
       "      <td>2025-03-06 02:00:00+00:00</td>\n",
       "    </tr>\n",
       "    <tr>\n",
       "      <th>250</th>\n",
       "      <td>21</td>\n",
       "      <td>0.0</td>\n",
       "      <td>2025-03-06 02:00:00+00:00</td>\n",
       "    </tr>\n",
       "    <tr>\n",
       "      <th>251</th>\n",
       "      <td>176</td>\n",
       "      <td>0.0</td>\n",
       "      <td>2025-03-06 02:00:00+00:00</td>\n",
       "    </tr>\n",
       "  </tbody>\n",
       "</table>\n",
       "<p>252 rows × 3 columns</p>\n",
       "</div>"
      ],
      "text/plain": [
       "     pickup_location_id  predicted_demand               pickup_hour\n",
       "0                   210               0.0 2025-03-06 02:00:00+00:00\n",
       "1                   261               7.0 2025-03-06 02:00:00+00:00\n",
       "2                    69               0.0 2025-03-06 02:00:00+00:00\n",
       "3                   155               0.0 2025-03-06 02:00:00+00:00\n",
       "4                    85               1.0 2025-03-06 02:00:00+00:00\n",
       "..                  ...               ...                       ...\n",
       "247                  62               0.0 2025-03-06 02:00:00+00:00\n",
       "248                  74              11.0 2025-03-06 02:00:00+00:00\n",
       "249                  50              14.0 2025-03-06 02:00:00+00:00\n",
       "250                  21               0.0 2025-03-06 02:00:00+00:00\n",
       "251                 176               0.0 2025-03-06 02:00:00+00:00\n",
       "\n",
       "[252 rows x 3 columns]"
      ]
     },
     "execution_count": 7,
     "metadata": {},
     "output_type": "execute_result"
    }
   ],
   "source": [
    "predictions[\"pickup_hour\"] = current_date.ceil('h')\n",
    "predictions"
   ]
  },
  {
   "cell_type": "code",
   "execution_count": 8,
   "id": "7b171dd4-628a-4c46-af00-92cee476f090",
   "metadata": {},
   "outputs": [
    {
     "name": "stdout",
     "output_type": "stream",
     "text": [
      "2025-03-05 20:19:55,146 INFO: Closing external client and cleaning up certificates.\n",
      "Connection closed.\n",
      "2025-03-05 20:19:55,156 INFO: Initializing external client\n",
      "2025-03-05 20:19:55,157 INFO: Base URL: https://c.app.hopsworks.ai:443\n",
      "2025-03-05 20:19:55,883 INFO: Python Engine initialized.\n",
      "\n",
      "Logged in to project, explore it here https://c.app.hopsworks.ai:443/p/1214674\n"
     ]
    }
   ],
   "source": [
    "from src.inference import get_feature_store\n",
    "\n",
    "feature_group = get_feature_store().get_or_create_feature_group(\n",
    "    name=config.FEATURE_GROUP_MODEL_PREDICTION,\n",
    "    version=1,\n",
    "    description=\"Predictions from LGBM Model\",\n",
    "    primary_key=[\"pickup_location_id\", \"pickup_hour\"],\n",
    "    event_time=\"pickup_hour\",\n",
    ")"
   ]
  },
  {
   "cell_type": "code",
   "execution_count": 9,
   "id": "0ba8f0db-022e-4f8a-ac34-6fd8bb095b47",
   "metadata": {},
   "outputs": [
    {
     "name": "stderr",
     "output_type": "stream",
     "text": [
      "Uploading Dataframe: 100.00% |█████████████████████████████| Rows 252/252 | Elapsed Time: 00:01 | Remaining Time: 00:00\n"
     ]
    },
    {
     "name": "stdout",
     "output_type": "stream",
     "text": [
      "Launching job: taxi_hourly_model_prediction_1_offline_fg_materialization\n",
      "Job started successfully, you can follow the progress at \n",
      "https://c.app.hopsworks.ai:443/p/1214674/jobs/named/taxi_hourly_model_prediction_1_offline_fg_materialization/executions\n"
     ]
    },
    {
     "data": {
      "text/plain": [
       "(Job('taxi_hourly_model_prediction_1_offline_fg_materialization', 'SPARK'),\n",
       " None)"
      ]
     },
     "execution_count": 9,
     "metadata": {},
     "output_type": "execute_result"
    }
   ],
   "source": [
    "feature_group.insert(predictions, write_options={\"wait_for_job\": False})"
   ]
  },
  {
   "cell_type": "code",
   "execution_count": 10,
   "id": "4c6e98e1-fef2-4aa0-93a0-455961455e08",
   "metadata": {},
   "outputs": [
    {
     "name": "stdout",
     "output_type": "stream",
     "text": [
      "Requirement already satisfied: hopsworks in c:\\users\\sheet\\anaconda3\\envs\\sp25_taxi\\lib\\site-packages (4.1.8)\n",
      "Requirement already satisfied: pyhumps==1.6.1 in c:\\users\\sheet\\anaconda3\\envs\\sp25_taxi\\lib\\site-packages (from hopsworks) (1.6.1)\n",
      "Requirement already satisfied: requests in c:\\users\\sheet\\anaconda3\\envs\\sp25_taxi\\lib\\site-packages (from hopsworks) (2.32.3)\n",
      "Requirement already satisfied: furl in c:\\users\\sheet\\anaconda3\\envs\\sp25_taxi\\lib\\site-packages (from hopsworks) (2.1.3)\n",
      "Requirement already satisfied: boto3 in c:\\users\\sheet\\anaconda3\\envs\\sp25_taxi\\lib\\site-packages (from hopsworks) (1.36.12)\n",
      "Requirement already satisfied: pandas<2.2.0 in c:\\users\\sheet\\anaconda3\\envs\\sp25_taxi\\lib\\site-packages (from hopsworks) (2.1.4)\n",
      "Requirement already satisfied: pyjks in c:\\users\\sheet\\anaconda3\\envs\\sp25_taxi\\lib\\site-packages (from hopsworks) (20.0.0)\n",
      "Requirement already satisfied: mock in c:\\users\\sheet\\anaconda3\\envs\\sp25_taxi\\lib\\site-packages (from hopsworks) (5.1.0)\n",
      "Requirement already satisfied: avro==1.11.3 in c:\\users\\sheet\\anaconda3\\envs\\sp25_taxi\\lib\\site-packages (from hopsworks) (1.11.3)\n",
      "Requirement already satisfied: sqlalchemy in c:\\users\\sheet\\anaconda3\\envs\\sp25_taxi\\lib\\site-packages (from hopsworks) (1.4.48)\n",
      "Requirement already satisfied: PyMySQL[rsa] in c:\\users\\sheet\\anaconda3\\envs\\sp25_taxi\\lib\\site-packages (from hopsworks) (1.1.1)\n",
      "Requirement already satisfied: tzlocal in c:\\users\\sheet\\anaconda3\\envs\\sp25_taxi\\lib\\site-packages (from hopsworks) (5.2)\n",
      "Requirement already satisfied: fsspec in c:\\users\\sheet\\anaconda3\\envs\\sp25_taxi\\lib\\site-packages (from hopsworks) (2025.2.0)\n",
      "Requirement already satisfied: retrying in c:\\users\\sheet\\anaconda3\\envs\\sp25_taxi\\lib\\site-packages (from hopsworks) (1.3.4)\n",
      "Requirement already satisfied: hopsworks_aiomysql==0.2.1 in c:\\users\\sheet\\anaconda3\\envs\\sp25_taxi\\lib\\site-packages (from hopsworks_aiomysql[sa]==0.2.1->hopsworks) (0.2.1)\n",
      "Requirement already satisfied: opensearch-py<=2.4.2,>=1.1.0 in c:\\users\\sheet\\anaconda3\\envs\\sp25_taxi\\lib\\site-packages (from hopsworks) (2.4.2)\n",
      "Requirement already satisfied: tqdm in c:\\users\\sheet\\anaconda3\\envs\\sp25_taxi\\lib\\site-packages (from hopsworks) (4.67.1)\n",
      "Requirement already satisfied: grpcio<2.0.0,>=1.49.1 in c:\\users\\sheet\\anaconda3\\envs\\sp25_taxi\\lib\\site-packages (from hopsworks) (1.70.0)\n",
      "Requirement already satisfied: protobuf<5.0.0,>=4.25.4 in c:\\users\\sheet\\anaconda3\\envs\\sp25_taxi\\lib\\site-packages (from hopsworks) (4.25.6)\n",
      "Requirement already satisfied: packaging in c:\\users\\sheet\\anaconda3\\envs\\sp25_taxi\\lib\\site-packages (from hopsworks) (24.2)\n",
      "Requirement already satisfied: urllib3>=1.26.18 in c:\\users\\sheet\\anaconda3\\envs\\sp25_taxi\\lib\\site-packages (from opensearch-py<=2.4.2,>=1.1.0->hopsworks) (2.3.0)\n",
      "Requirement already satisfied: six in c:\\users\\sheet\\anaconda3\\envs\\sp25_taxi\\lib\\site-packages (from opensearch-py<=2.4.2,>=1.1.0->hopsworks) (1.17.0)\n",
      "Requirement already satisfied: python-dateutil in c:\\users\\sheet\\anaconda3\\envs\\sp25_taxi\\lib\\site-packages (from opensearch-py<=2.4.2,>=1.1.0->hopsworks) (2.9.0.post0)\n",
      "Requirement already satisfied: certifi>=2022.12.07 in c:\\users\\sheet\\anaconda3\\envs\\sp25_taxi\\lib\\site-packages (from opensearch-py<=2.4.2,>=1.1.0->hopsworks) (2024.12.14)\n",
      "Requirement already satisfied: numpy<2,>=1.23.2 in c:\\users\\sheet\\anaconda3\\envs\\sp25_taxi\\lib\\site-packages (from pandas<2.2.0->hopsworks) (1.24.4)\n",
      "Requirement already satisfied: pytz>=2020.1 in c:\\users\\sheet\\anaconda3\\envs\\sp25_taxi\\lib\\site-packages (from pandas<2.2.0->hopsworks) (2024.2)\n",
      "Requirement already satisfied: tzdata>=2022.1 in c:\\users\\sheet\\anaconda3\\envs\\sp25_taxi\\lib\\site-packages (from pandas<2.2.0->hopsworks) (2025.1)\n",
      "Requirement already satisfied: charset-normalizer<4,>=2 in c:\\users\\sheet\\anaconda3\\envs\\sp25_taxi\\lib\\site-packages (from requests->hopsworks) (3.4.1)\n",
      "Requirement already satisfied: idna<4,>=2.5 in c:\\users\\sheet\\anaconda3\\envs\\sp25_taxi\\lib\\site-packages (from requests->hopsworks) (3.10)\n",
      "Requirement already satisfied: greenlet!=0.4.17 in c:\\users\\sheet\\anaconda3\\envs\\sp25_taxi\\lib\\site-packages (from sqlalchemy->hopsworks) (3.1.1)\n",
      "Requirement already satisfied: botocore<1.37.0,>=1.36.12 in c:\\users\\sheet\\anaconda3\\envs\\sp25_taxi\\lib\\site-packages (from boto3->hopsworks) (1.36.12)\n",
      "Requirement already satisfied: jmespath<2.0.0,>=0.7.1 in c:\\users\\sheet\\anaconda3\\envs\\sp25_taxi\\lib\\site-packages (from boto3->hopsworks) (1.0.1)\n",
      "Requirement already satisfied: s3transfer<0.12.0,>=0.11.0 in c:\\users\\sheet\\anaconda3\\envs\\sp25_taxi\\lib\\site-packages (from boto3->hopsworks) (0.11.2)\n",
      "Requirement already satisfied: orderedmultidict>=1.0.1 in c:\\users\\sheet\\anaconda3\\envs\\sp25_taxi\\lib\\site-packages (from furl->hopsworks) (1.0.1)\n",
      "Requirement already satisfied: javaobj-py3 in c:\\users\\sheet\\anaconda3\\envs\\sp25_taxi\\lib\\site-packages (from pyjks->hopsworks) (0.4.4)\n",
      "Requirement already satisfied: pyasn1>=0.3.5 in c:\\users\\sheet\\anaconda3\\envs\\sp25_taxi\\lib\\site-packages (from pyjks->hopsworks) (0.6.1)\n",
      "Requirement already satisfied: pyasn1-modules in c:\\users\\sheet\\anaconda3\\envs\\sp25_taxi\\lib\\site-packages (from pyjks->hopsworks) (0.4.1)\n",
      "Requirement already satisfied: pycryptodomex in c:\\users\\sheet\\anaconda3\\envs\\sp25_taxi\\lib\\site-packages (from pyjks->hopsworks) (3.21.0)\n",
      "Requirement already satisfied: twofish in c:\\users\\sheet\\anaconda3\\envs\\sp25_taxi\\lib\\site-packages (from pyjks->hopsworks) (0.3.0)\n",
      "Requirement already satisfied: cryptography in c:\\users\\sheet\\anaconda3\\envs\\sp25_taxi\\lib\\site-packages (from PyMySQL[rsa]->hopsworks) (44.0.0)\n",
      "Requirement already satisfied: colorama in c:\\users\\sheet\\anaconda3\\envs\\sp25_taxi\\lib\\site-packages (from tqdm->hopsworks) (0.4.6)\n",
      "Requirement already satisfied: cffi>=1.12 in c:\\users\\sheet\\anaconda3\\envs\\sp25_taxi\\lib\\site-packages (from cryptography->PyMySQL[rsa]->hopsworks) (1.17.1)\n",
      "Requirement already satisfied: pycparser in c:\\users\\sheet\\anaconda3\\envs\\sp25_taxi\\lib\\site-packages (from cffi>=1.12->cryptography->PyMySQL[rsa]->hopsworks) (2.22)\n"
     ]
    }
   ],
   "source": [
    "!pip install hopsworks"
   ]
  },
  {
   "cell_type": "code",
   "execution_count": null,
   "id": "77a6b81c-6b3c-4713-ac74-4a43027d1215",
   "metadata": {},
   "outputs": [],
   "source": []
  }
 ],
 "metadata": {
  "kernelspec": {
   "display_name": "Python 3 (ipykernel)",
   "language": "python",
   "name": "python3"
  },
  "language_info": {
   "codemirror_mode": {
    "name": "ipython",
    "version": 3
   },
   "file_extension": ".py",
   "mimetype": "text/x-python",
   "name": "python",
   "nbconvert_exporter": "python",
   "pygments_lexer": "ipython3",
   "version": "3.11.11"
  }
 },
 "nbformat": 4,
 "nbformat_minor": 5
}
