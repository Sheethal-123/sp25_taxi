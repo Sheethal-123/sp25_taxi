{
 "cells": [
  {
   "cell_type": "code",
   "execution_count": 2,
   "id": "5f18b5c0-cc93-497d-b7d2-8385a42d69ba",
   "metadata": {},
   "outputs": [],
   "source": [
    "import os"
   ]
  },
  {
   "cell_type": "code",
   "execution_count": 4,
   "id": "4dfbbb85-67fb-4f4b-bdf3-3d9f12203c10",
   "metadata": {},
   "outputs": [
    {
     "data": {
      "text/plain": [
       "environ{'ALLUSERSPROFILE': 'C:\\\\ProgramData',\n",
       "        'APPDATA': 'C:\\\\Users\\\\sheet\\\\AppData\\\\Roaming',\n",
       "        'COMMONPROGRAMFILES': 'C:\\\\Program Files\\\\Common Files',\n",
       "        'COMMONPROGRAMFILES(X86)': 'C:\\\\Program Files (x86)\\\\Common Files',\n",
       "        'COMMONPROGRAMW6432': 'C:\\\\Program Files\\\\Common Files',\n",
       "        'COMPUTERNAME': 'LAPTOP-RV2FCMDK',\n",
       "        'COMSPEC': 'C:\\\\windows\\\\system32\\\\cmd.exe',\n",
       "        'CONDA_DEFAULT_ENV': 'base',\n",
       "        'CONDA_EXE': 'C:\\\\Users\\\\sheet\\\\anaconda3\\\\Scripts\\\\conda.exe',\n",
       "        'CONDA_EXES': '\"C:\\\\Users\\\\sheet\\\\anaconda3\\\\Scripts\\\\conda.exe\"  ',\n",
       "        'CONDA_PREFIX': 'C:\\\\Users\\\\sheet\\\\anaconda3',\n",
       "        'CONDA_PROMPT_MODIFIER': '(base) ',\n",
       "        'CONDA_PYTHON_EXE': 'C:\\\\Users\\\\sheet\\\\anaconda3\\\\python.exe',\n",
       "        'CONDA_SHLVL': '1',\n",
       "        'DRIVERDATA': 'C:\\\\Windows\\\\System32\\\\Drivers\\\\DriverData',\n",
       "        'EFC_7840': '1',\n",
       "        'HOMEDRIVE': 'C:',\n",
       "        'HOMEPATH': '\\\\Users\\\\sheet',\n",
       "        'IPY_INTERRUPT_EVENT': '5732',\n",
       "        'JPY_INTERRUPT_EVENT': '5732',\n",
       "        'JPY_PARENT_PID': '6000',\n",
       "        'JPY_SESSION_NAME': 'C:\\\\Users\\\\sheet\\\\github\\\\sp25_taxi\\\\notebooks\\\\Untitled1.ipynb',\n",
       "        'LOCALAPPDATA': 'C:\\\\Users\\\\sheet\\\\AppData\\\\Local',\n",
       "        'LOGONSERVER': '\\\\\\\\LAPTOP-RV2FCMDK',\n",
       "        'NUMBER_OF_PROCESSORS': '8',\n",
       "        'ONEDRIVE': 'C:\\\\Users\\\\sheet\\\\OneDrive',\n",
       "        'ONEDRIVECONSUMER': 'C:\\\\Users\\\\sheet\\\\OneDrive',\n",
       "        'ONLINESERVICES': 'Online Services',\n",
       "        'OS': 'Windows_NT',\n",
       "        'PATH': 'C:\\\\Users\\\\sheet\\\\anaconda3;C:\\\\Users\\\\sheet\\\\anaconda3\\\\Library\\\\mingw-w64\\\\bin;C:\\\\Users\\\\sheet\\\\anaconda3\\\\Library\\\\usr\\\\bin;C:\\\\Users\\\\sheet\\\\anaconda3\\\\Library\\\\bin;C:\\\\Users\\\\sheet\\\\anaconda3\\\\Scripts;C:\\\\Users\\\\sheet\\\\anaconda3\\\\bin;C:\\\\Users\\\\sheet\\\\anaconda3\\\\condabin;C:\\\\windows\\\\system32;C:\\\\windows;C:\\\\windows\\\\System32\\\\Wbem;C:\\\\windows\\\\System32\\\\WindowsPowerShell\\\\v1.0;C:\\\\windows\\\\System32\\\\OpenSSH;C:\\\\Program Files\\\\HP\\\\HP One Agent;C:\\\\Program Files\\\\MATLAB\\\\R2024a\\\\runtime\\\\win64;C:\\\\Program Files\\\\MATLAB\\\\R2024a\\\\bin;C:\\\\Program Files\\\\Docker\\\\Docker\\\\resources\\\\bin;C:\\\\Program Files\\\\Git\\\\cmd;C:\\\\Program Files\\\\Microsoft SQL Server\\\\150\\\\Tools\\\\Binn;C:\\\\Program Files\\\\Microsoft SQL Server\\\\Client SDK\\\\ODBC\\\\170\\\\Tools\\\\Binn;C:\\\\Program Files\\\\dotnet;C:\\\\Users\\\\sheet\\\\AppData\\\\Local\\\\Microsoft\\\\WindowsApps;C:\\\\Program Files (x86)\\\\heroku\\\\bin;C:\\\\Users\\\\sheet\\\\OneDrive\\\\Desktop\\\\heroku\\\\bin;C:\\\\Users\\\\sheet\\\\OneDrive\\\\Desktop\\\\Zia\\\\Project;C:\\\\Users\\\\sheet\\\\OneDrive\\\\Desktop\\\\Stats\\\\MikTex\\\\miktex\\\\bin\\\\x64;C:\\\\Users\\\\sheet\\\\AppData\\\\Roaming\\\\TinyTeX\\\\bin\\\\windows;C:\\\\Users\\\\sheet\\\\.dotnet\\\\tools;C:\\\\Users\\\\sheet\\\\AppData\\\\Local\\\\Programs\\\\Microsoft VS Code\\\\bin',\n",
       "        'PATHEXT': '.COM;.EXE;.BAT;.CMD;.VBS;.VBE;.JS;.JSE;.WSF;.WSH;.MSC',\n",
       "        'PLATFORMCODE': 'KV',\n",
       "        'PROCESSOR_ARCHITECTURE': 'AMD64',\n",
       "        'PROCESSOR_IDENTIFIER': 'AMD64 Family 23 Model 160 Stepping 0, AuthenticAMD',\n",
       "        'PROCESSOR_LEVEL': '23',\n",
       "        'PROCESSOR_REVISION': 'a000',\n",
       "        'PROGRAMDATA': 'C:\\\\ProgramData',\n",
       "        'PROGRAMFILES': 'C:\\\\Program Files',\n",
       "        'PROGRAMFILES(X86)': 'C:\\\\Program Files (x86)',\n",
       "        'PROGRAMW6432': 'C:\\\\Program Files',\n",
       "        'PROMPT': '(base) $P$G',\n",
       "        'PSMODULEPATH': 'C:\\\\Program Files\\\\WindowsPowerShell\\\\Modules;C:\\\\windows\\\\system32\\\\WindowsPowerShell\\\\v1.0\\\\Modules',\n",
       "        'PUBLIC': 'C:\\\\Users\\\\Public',\n",
       "        'REGIONCODE': 'NA',\n",
       "        'SESSIONNAME': 'Console',\n",
       "        'SSL_CERT_FILE': 'C:\\\\Users\\\\sheet\\\\anaconda3\\\\Library\\\\ssl\\\\cacert.pem',\n",
       "        'SUBPROCESS_BAGGAGE': 'sentry-trace_id=e8d7dcad3205412eada15ba3c0ad8c41,sentry-environment=local_production,sentry-release=4.1.0,sentry-public_key=f175bff95ca4ae57c532f2bf67cbaa63',\n",
       "        'SUBPROCESS_SENTRY_TRACE': 'e8d7dcad3205412eada15ba3c0ad8c41-aa3a54465dc64332',\n",
       "        'SYSTEMDRIVE': 'C:',\n",
       "        'SYSTEMROOT': 'C:\\\\windows',\n",
       "        'TEMP': 'C:\\\\Users\\\\sheet\\\\AppData\\\\Local\\\\Temp',\n",
       "        'TMP': 'C:\\\\Users\\\\sheet\\\\AppData\\\\Local\\\\Temp',\n",
       "        'USERDOMAIN': 'LAPTOP-RV2FCMDK',\n",
       "        'USERDOMAIN_ROAMINGPROFILE': 'LAPTOP-RV2FCMDK',\n",
       "        'USERNAME': 'sheet',\n",
       "        'USERPROFILE': 'C:\\\\Users\\\\sheet',\n",
       "        'WINDIR': 'C:\\\\windows',\n",
       "        '__CONDA_OPENSLL_CERT_FILE_SET': '\"1\"',\n",
       "        'PYDEVD_USE_FRAME_EVAL': 'NO',\n",
       "        'TERM': 'xterm-color',\n",
       "        'CLICOLOR': '1',\n",
       "        'FORCE_COLOR': '1',\n",
       "        'CLICOLOR_FORCE': '1',\n",
       "        'PAGER': 'cat',\n",
       "        'GIT_PAGER': 'cat',\n",
       "        'MPLBACKEND': 'module://matplotlib_inline.backend_inline'}"
      ]
     },
     "execution_count": 4,
     "metadata": {},
     "output_type": "execute_result"
    }
   ],
   "source": [
    "os.environ"
   ]
  },
  {
   "cell_type": "code",
   "execution_count": 6,
   "id": "ceb95d36-7223-450b-89f9-34fa789531b3",
   "metadata": {},
   "outputs": [
    {
     "ename": "ImportError",
     "evalue": "cannot import name 'load_dotenvimport' from 'dotenv' (C:\\Users\\sheet\\anaconda3\\Lib\\site-packages\\dotenv\\__init__.py)",
     "output_type": "error",
     "traceback": [
      "\u001b[1;31m---------------------------------------------------------------------------\u001b[0m",
      "\u001b[1;31mImportError\u001b[0m                               Traceback (most recent call last)",
      "Cell \u001b[1;32mIn[6], line 1\u001b[0m\n\u001b[1;32m----> 1\u001b[0m \u001b[38;5;28;01mfrom\u001b[39;00m \u001b[38;5;21;01mdotenv\u001b[39;00m \u001b[38;5;28;01mimport\u001b[39;00m load_dotenvimport\n",
      "\u001b[1;31mImportError\u001b[0m: cannot import name 'load_dotenvimport' from 'dotenv' (C:\\Users\\sheet\\anaconda3\\Lib\\site-packages\\dotenv\\__init__.py)"
     ]
    }
   ],
   "source": [
    "from dotenv import load_dotenvimport"
   ]
  },
  {
   "cell_type": "code",
   "execution_count": 8,
   "id": "80aa9b9a-e3b7-4143-8fd2-cf04cfe0ad93",
   "metadata": {},
   "outputs": [
    {
     "name": "stdout",
     "output_type": "stream",
     "text": [
      "dotenv imported successfully!\n"
     ]
    }
   ],
   "source": [
    "from dotenv import load_dotenv\n",
    "print(\"dotenv imported successfully!\")"
   ]
  },
  {
   "cell_type": "code",
   "execution_count": 10,
   "id": "0637ca50-560e-478c-abf0-9564857d8b74",
   "metadata": {},
   "outputs": [
    {
     "data": {
      "text/plain": [
       "True"
      ]
     },
     "execution_count": 10,
     "metadata": {},
     "output_type": "execute_result"
    }
   ],
   "source": [
    "load_dotenv()"
   ]
  },
  {
   "cell_type": "code",
   "execution_count": 12,
   "id": "5d5a5373-79c5-4912-bac7-26c72b13c5c0",
   "metadata": {},
   "outputs": [
    {
     "data": {
      "text/plain": [
       "environ{'ALLUSERSPROFILE': 'C:\\\\ProgramData',\n",
       "        'APPDATA': 'C:\\\\Users\\\\sheet\\\\AppData\\\\Roaming',\n",
       "        'COMMONPROGRAMFILES': 'C:\\\\Program Files\\\\Common Files',\n",
       "        'COMMONPROGRAMFILES(X86)': 'C:\\\\Program Files (x86)\\\\Common Files',\n",
       "        'COMMONPROGRAMW6432': 'C:\\\\Program Files\\\\Common Files',\n",
       "        'COMPUTERNAME': 'LAPTOP-RV2FCMDK',\n",
       "        'COMSPEC': 'C:\\\\windows\\\\system32\\\\cmd.exe',\n",
       "        'CONDA_DEFAULT_ENV': 'base',\n",
       "        'CONDA_EXE': 'C:\\\\Users\\\\sheet\\\\anaconda3\\\\Scripts\\\\conda.exe',\n",
       "        'CONDA_EXES': '\"C:\\\\Users\\\\sheet\\\\anaconda3\\\\Scripts\\\\conda.exe\"  ',\n",
       "        'CONDA_PREFIX': 'C:\\\\Users\\\\sheet\\\\anaconda3',\n",
       "        'CONDA_PROMPT_MODIFIER': '(base) ',\n",
       "        'CONDA_PYTHON_EXE': 'C:\\\\Users\\\\sheet\\\\anaconda3\\\\python.exe',\n",
       "        'CONDA_SHLVL': '1',\n",
       "        'DRIVERDATA': 'C:\\\\Windows\\\\System32\\\\Drivers\\\\DriverData',\n",
       "        'EFC_7840': '1',\n",
       "        'HOMEDRIVE': 'C:',\n",
       "        'HOMEPATH': '\\\\Users\\\\sheet',\n",
       "        'IPY_INTERRUPT_EVENT': '5732',\n",
       "        'JPY_INTERRUPT_EVENT': '5732',\n",
       "        'JPY_PARENT_PID': '6000',\n",
       "        'JPY_SESSION_NAME': 'C:\\\\Users\\\\sheet\\\\github\\\\sp25_taxi\\\\notebooks\\\\Untitled1.ipynb',\n",
       "        'LOCALAPPDATA': 'C:\\\\Users\\\\sheet\\\\AppData\\\\Local',\n",
       "        'LOGONSERVER': '\\\\\\\\LAPTOP-RV2FCMDK',\n",
       "        'NUMBER_OF_PROCESSORS': '8',\n",
       "        'ONEDRIVE': 'C:\\\\Users\\\\sheet\\\\OneDrive',\n",
       "        'ONEDRIVECONSUMER': 'C:\\\\Users\\\\sheet\\\\OneDrive',\n",
       "        'ONLINESERVICES': 'Online Services',\n",
       "        'OS': 'Windows_NT',\n",
       "        'PATH': 'C:\\\\Users\\\\sheet\\\\anaconda3;C:\\\\Users\\\\sheet\\\\anaconda3\\\\Library\\\\mingw-w64\\\\bin;C:\\\\Users\\\\sheet\\\\anaconda3\\\\Library\\\\usr\\\\bin;C:\\\\Users\\\\sheet\\\\anaconda3\\\\Library\\\\bin;C:\\\\Users\\\\sheet\\\\anaconda3\\\\Scripts;C:\\\\Users\\\\sheet\\\\anaconda3\\\\bin;C:\\\\Users\\\\sheet\\\\anaconda3\\\\condabin;C:\\\\windows\\\\system32;C:\\\\windows;C:\\\\windows\\\\System32\\\\Wbem;C:\\\\windows\\\\System32\\\\WindowsPowerShell\\\\v1.0;C:\\\\windows\\\\System32\\\\OpenSSH;C:\\\\Program Files\\\\HP\\\\HP One Agent;C:\\\\Program Files\\\\MATLAB\\\\R2024a\\\\runtime\\\\win64;C:\\\\Program Files\\\\MATLAB\\\\R2024a\\\\bin;C:\\\\Program Files\\\\Docker\\\\Docker\\\\resources\\\\bin;C:\\\\Program Files\\\\Git\\\\cmd;C:\\\\Program Files\\\\Microsoft SQL Server\\\\150\\\\Tools\\\\Binn;C:\\\\Program Files\\\\Microsoft SQL Server\\\\Client SDK\\\\ODBC\\\\170\\\\Tools\\\\Binn;C:\\\\Program Files\\\\dotnet;C:\\\\Users\\\\sheet\\\\AppData\\\\Local\\\\Microsoft\\\\WindowsApps;C:\\\\Program Files (x86)\\\\heroku\\\\bin;C:\\\\Users\\\\sheet\\\\OneDrive\\\\Desktop\\\\heroku\\\\bin;C:\\\\Users\\\\sheet\\\\OneDrive\\\\Desktop\\\\Zia\\\\Project;C:\\\\Users\\\\sheet\\\\OneDrive\\\\Desktop\\\\Stats\\\\MikTex\\\\miktex\\\\bin\\\\x64;C:\\\\Users\\\\sheet\\\\AppData\\\\Roaming\\\\TinyTeX\\\\bin\\\\windows;C:\\\\Users\\\\sheet\\\\.dotnet\\\\tools;C:\\\\Users\\\\sheet\\\\AppData\\\\Local\\\\Programs\\\\Microsoft VS Code\\\\bin',\n",
       "        'PATHEXT': '.COM;.EXE;.BAT;.CMD;.VBS;.VBE;.JS;.JSE;.WSF;.WSH;.MSC',\n",
       "        'PLATFORMCODE': 'KV',\n",
       "        'PROCESSOR_ARCHITECTURE': 'AMD64',\n",
       "        'PROCESSOR_IDENTIFIER': 'AMD64 Family 23 Model 160 Stepping 0, AuthenticAMD',\n",
       "        'PROCESSOR_LEVEL': '23',\n",
       "        'PROCESSOR_REVISION': 'a000',\n",
       "        'PROGRAMDATA': 'C:\\\\ProgramData',\n",
       "        'PROGRAMFILES': 'C:\\\\Program Files',\n",
       "        'PROGRAMFILES(X86)': 'C:\\\\Program Files (x86)',\n",
       "        'PROGRAMW6432': 'C:\\\\Program Files',\n",
       "        'PROMPT': '(base) $P$G',\n",
       "        'PSMODULEPATH': 'C:\\\\Program Files\\\\WindowsPowerShell\\\\Modules;C:\\\\windows\\\\system32\\\\WindowsPowerShell\\\\v1.0\\\\Modules',\n",
       "        'PUBLIC': 'C:\\\\Users\\\\Public',\n",
       "        'REGIONCODE': 'NA',\n",
       "        'SESSIONNAME': 'Console',\n",
       "        'SSL_CERT_FILE': 'C:\\\\Users\\\\sheet\\\\anaconda3\\\\Library\\\\ssl\\\\cacert.pem',\n",
       "        'SUBPROCESS_BAGGAGE': 'sentry-trace_id=e8d7dcad3205412eada15ba3c0ad8c41,sentry-environment=local_production,sentry-release=4.1.0,sentry-public_key=f175bff95ca4ae57c532f2bf67cbaa63',\n",
       "        'SUBPROCESS_SENTRY_TRACE': 'e8d7dcad3205412eada15ba3c0ad8c41-aa3a54465dc64332',\n",
       "        'SYSTEMDRIVE': 'C:',\n",
       "        'SYSTEMROOT': 'C:\\\\windows',\n",
       "        'TEMP': 'C:\\\\Users\\\\sheet\\\\AppData\\\\Local\\\\Temp',\n",
       "        'TMP': 'C:\\\\Users\\\\sheet\\\\AppData\\\\Local\\\\Temp',\n",
       "        'USERDOMAIN': 'LAPTOP-RV2FCMDK',\n",
       "        'USERDOMAIN_ROAMINGPROFILE': 'LAPTOP-RV2FCMDK',\n",
       "        'USERNAME': 'sheet',\n",
       "        'USERPROFILE': 'C:\\\\Users\\\\sheet',\n",
       "        'WINDIR': 'C:\\\\windows',\n",
       "        '__CONDA_OPENSLL_CERT_FILE_SET': '\"1\"',\n",
       "        'PYDEVD_USE_FRAME_EVAL': 'NO',\n",
       "        'TERM': 'xterm-color',\n",
       "        'CLICOLOR': '1',\n",
       "        'FORCE_COLOR': '1',\n",
       "        'CLICOLOR_FORCE': '1',\n",
       "        'PAGER': 'cat',\n",
       "        'GIT_PAGER': 'cat',\n",
       "        'MPLBACKEND': 'module://matplotlib_inline.backend_inline',\n",
       "        'MLFLOW_TRACKING_URI': 'https://dagshub.com/Sheethal-123/sp25_taxi.mlflow',\n",
       "        'MLFLOW_TRACKING_USERNAME': 'Sheethal-123',\n",
       "        'MLFLOW_TRACKING_PASSWORD': '6720cfce72bdfac302cda4c5eac121fad1c15c18'}"
      ]
     },
     "execution_count": 12,
     "metadata": {},
     "output_type": "execute_result"
    }
   ],
   "source": [
    "os.environ"
   ]
  },
  {
   "cell_type": "code",
   "execution_count": 22,
   "id": "fb6f5fb7-c3f9-4eb1-8cf2-73575132a55e",
   "metadata": {},
   "outputs": [
    {
     "name": "stdout",
     "output_type": "stream",
     "text": [
      "Requirement already satisfied: python-dotenv in c:\\users\\sheet\\anaconda3\\lib\\site-packages (0.21.0)Note: you may need to restart the kernel to use updated packages.\n",
      "\n"
     ]
    }
   ],
   "source": [
    "pip install python-dotenv"
   ]
  },
  {
   "cell_type": "code",
   "execution_count": null,
   "id": "07b39a8e-f8c4-420f-8a1f-1971174e1798",
   "metadata": {},
   "outputs": [],
   "source": []
  }
 ],
 "metadata": {
  "kernelspec": {
   "display_name": "Python 3 (ipykernel)",
   "language": "python",
   "name": "python3"
  },
  "language_info": {
   "codemirror_mode": {
    "name": "ipython",
    "version": 3
   },
   "file_extension": ".py",
   "mimetype": "text/x-python",
   "name": "python",
   "nbconvert_exporter": "python",
   "pygments_lexer": "ipython3",
   "version": "3.11.11"
  }
 },
 "nbformat": 4,
 "nbformat_minor": 5
}
