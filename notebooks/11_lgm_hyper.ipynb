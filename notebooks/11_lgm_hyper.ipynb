{
 "cells": [
  {
   "cell_type": "code",
   "execution_count": 2,
   "id": "c0785e78-047e-4ef9-aa33-255f0c057587",
   "metadata": {},
   "outputs": [],
   "source": [
    "%load_ext autoreload\n",
    "%autoreload 2"
   ]
  },
  {
   "cell_type": "code",
   "execution_count": 3,
   "id": "325fe509-72bc-4896-9eba-528dd729ec9d",
   "metadata": {},
   "outputs": [],
   "source": [
    "import sys\n",
    "import os\n",
    "\n",
    "# Add the parent directory to the Python path\n",
    "sys.path.append(os.path.abspath(os.path.join(os.getcwd(), \"..\")))"
   ]
  },
  {
   "cell_type": "code",
   "execution_count": 4,
   "id": "e53f9c77-3c99-4608-b551-0b5136a47106",
   "metadata": {},
   "outputs": [],
   "source": [
    "import pandas as pd\n",
    "from src.config import TRANSFORMED_DATA_DIR\n",
    "\n",
    "df = pd.read_parquet(TRANSFORMED_DATA_DIR / \"tabular_data.parquet\")"
   ]
  },
  {
   "cell_type": "code",
   "execution_count": 5,
   "id": "6b24d506-42af-4b59-8945-4438a724b8fe",
   "metadata": {},
   "outputs": [
    {
     "name": "stdout",
     "output_type": "stream",
     "text": [
      "<class 'pandas.core.series.Series'>\n",
      "RangeIndex: 87620 entries, 0 to 87619\n",
      "Series name: pickup_hour\n",
      "Non-Null Count  Dtype         \n",
      "--------------  -----         \n",
      "87620 non-null  datetime64[ns]\n",
      "dtypes: datetime64[ns](1)\n",
      "memory usage: 684.7 KB\n"
     ]
    }
   ],
   "source": [
    "df[\"pickup_hour\"].info()"
   ]
  },
  {
   "cell_type": "code",
   "execution_count": 6,
   "id": "3b4e0557-93c9-4869-98c4-ceccab25df08",
   "metadata": {},
   "outputs": [
    {
     "name": "stdout",
     "output_type": "stream",
     "text": [
      "(55900, 674)\n",
      "(55900,)\n",
      "(31720, 674)\n",
      "(31720,)\n"
     ]
    }
   ],
   "source": [
    "from datetime import datetime\n",
    "\n",
    "from src.data_utils import split_time_series_data\n",
    "\n",
    "X_train, y_train, X_test, y_test = split_time_series_data(\n",
    "    df,\n",
    "    cutoff_date=datetime(2023, 9, 1, 0, 0, 0),\n",
    "    target_column=\"target\"\n",
    ")\n",
    "\n",
    "print(X_train.shape)\n",
    "print(y_train.shape)\n",
    "print(X_test.shape)\n",
    "print(y_test.shape)"
   ]
  },
  {
   "cell_type": "code",
   "execution_count": 9,
   "id": "b29fe583-56d9-4ef9-9f70-d1e19d557dd5",
   "metadata": {},
   "outputs": [],
   "source": [
    "def average_rides_last_4_weeks(X: pd.DataFrame) -> pd.DataFrame:\n",
    "    last_4_weeks_columns = [\n",
    "            f\"rides_t-{7*24}\",  # 1 week ago\n",
    "            f\"rides_t-{14*24}\", # 2 weeks ago\n",
    "            f\"rides_t-{21*24}\", # 3 weeks ago\n",
    "            f\"rides_t-{28*24}\"  # 4 weeks ago\n",
    "        ]\n",
    "\n",
    "        # Ensure the required columns exist in the test DataFrame\n",
    "    for col in last_4_weeks_columns:\n",
    "        if col not in X.columns:\n",
    "            raise ValueError(f\"Missing required column: {col}\")\n",
    "\n",
    "    # Calculate the average of the last 4 weeks\n",
    "    X[\"average_rides_last_4_weeks\"] = X[last_4_weeks_columns].mean(axis=1)\n",
    "\n",
    "    return X\n",
    "\n",
    "from sklearn.preprocessing import FunctionTransformer\n",
    "\n",
    "add_feature_average_rides_last_4_weeks = FunctionTransformer(\n",
    "    average_rides_last_4_weeks, validate=False\n",
    ")"
   ]
  },
  {
   "cell_type": "code",
   "execution_count": 13,
   "id": "c7dc456f-ec56-46b0-a744-4f028e626289",
   "metadata": {},
   "outputs": [],
   "source": [
    "from sklearn.base import BaseEstimator, TransformerMixin\n",
    "\n",
    "class TemporalFeatureEngineer(BaseEstimator, TransformerMixin):\n",
    "\n",
    "    def fit(self, X, y=None):\n",
    "        return self\n",
    "\n",
    "    def transform(self, X, y=None):\n",
    "        X_ = X.copy()\n",
    "        X_[\"hour\"] = X_[\"pickup_hour\"].dt.hour\n",
    "        X_[\"day_of_week\"] = X_[\"pickup_hour\"].dt.dayofweek\n",
    "\n",
    "        return X_.drop(columns=[\"pickup_hour\", \"pickup_location_id\"])\n",
    "\n",
    "add_temporal_features = TemporalFeatureEngineer()\n"
   ]
  },
  {
   "cell_type": "code",
   "execution_count": 14,
   "id": "951611ef-d747-4b23-9b00-c5f948beea82",
   "metadata": {},
   "outputs": [],
   "source": [
    "import lightgbm as lgb\n",
    "\n",
    "from sklearn.pipeline import make_pipeline\n",
    "\n",
    "pipeline = make_pipeline(\n",
    "    add_feature_average_rides_last_4_weeks,\n",
    "    add_temporal_features,\n",
    "    lgb.LGBMRegressor()\n",
    ")"
   ]
  },
  {
   "cell_type": "code",
   "execution_count": 15,
   "id": "7f96f1e3-b43b-4922-ae58-709f0146e977",
   "metadata": {},
   "outputs": [
    {
     "name": "stderr",
     "output_type": "stream",
     "text": [
      "C:\\Users\\sheet\\anaconda3\\envs\\sp25_taxi\\Lib\\site-packages\\sklearn\\model_selection\\_search.py:317: UserWarning: The total space of parameters 4 is smaller than n_iter=5. Running 4 iterations. For exhaustive searches, use GridSearchCV.\n",
      "  warnings.warn(\n"
     ]
    },
    {
     "name": "stdout",
     "output_type": "stream",
     "text": [
      "Fitting 3 folds for each of 4 candidates, totalling 12 fits\n",
      "[LightGBM] [Info] Auto-choosing col-wise multi-threading, the overhead of testing was 0.221711 seconds.\n",
      "You can set `force_col_wise=true` to remove the overhead.\n",
      "[LightGBM] [Info] Total Bins 156723\n",
      "[LightGBM] [Info] Number of data points in the train set: 37266, number of used features: 674\n",
      "[LightGBM] [Info] Start training from score 13.482799\n",
      "[CV] END ........................lgbmregressor__num_leaves=2; total time=   5.3s\n",
      "[LightGBM] [Info] Auto-choosing col-wise multi-threading, the overhead of testing was 0.210904 seconds.\n",
      "You can set `force_col_wise=true` to remove the overhead.\n",
      "[LightGBM] [Info] Total Bins 153420\n",
      "[LightGBM] [Info] Number of data points in the train set: 37267, number of used features: 674\n",
      "[LightGBM] [Info] Start training from score 8.169855\n",
      "[CV] END ........................lgbmregressor__num_leaves=2; total time=   5.4s\n",
      "[LightGBM] [Info] Auto-choosing col-wise multi-threading, the overhead of testing was 0.197778 seconds.\n",
      "You can set `force_col_wise=true` to remove the overhead.\n",
      "[LightGBM] [Info] Total Bins 155219\n",
      "[LightGBM] [Info] Number of data points in the train set: 37267, number of used features: 674\n",
      "[LightGBM] [Info] Start training from score 11.678268\n",
      "[CV] END ........................lgbmregressor__num_leaves=2; total time=   4.9s\n",
      "[LightGBM] [Info] Auto-choosing col-wise multi-threading, the overhead of testing was 0.230515 seconds.\n",
      "You can set `force_col_wise=true` to remove the overhead.\n",
      "[LightGBM] [Info] Total Bins 156723\n",
      "[LightGBM] [Info] Number of data points in the train set: 37266, number of used features: 674\n",
      "[LightGBM] [Info] Start training from score 13.482799\n",
      "[CV] END .......................lgbmregressor__num_leaves=50; total time=  13.6s\n",
      "[LightGBM] [Info] Auto-choosing col-wise multi-threading, the overhead of testing was 0.224715 seconds.\n",
      "You can set `force_col_wise=true` to remove the overhead.\n",
      "[LightGBM] [Info] Total Bins 153420\n",
      "[LightGBM] [Info] Number of data points in the train set: 37267, number of used features: 674\n",
      "[LightGBM] [Info] Start training from score 8.169855\n",
      "[CV] END .......................lgbmregressor__num_leaves=50; total time=  13.2s\n",
      "[LightGBM] [Info] Auto-choosing row-wise multi-threading, the overhead of testing was 0.122643 seconds.\n",
      "You can set `force_row_wise=true` to remove the overhead.\n",
      "And if memory is not enough, you can set `force_col_wise=true`.\n",
      "[LightGBM] [Info] Total Bins 155219\n",
      "[LightGBM] [Info] Number of data points in the train set: 37267, number of used features: 674\n",
      "[LightGBM] [Info] Start training from score 11.678268\n",
      "[CV] END .......................lgbmregressor__num_leaves=50; total time=  15.3s\n",
      "[LightGBM] [Info] Auto-choosing col-wise multi-threading, the overhead of testing was 0.229930 seconds.\n",
      "You can set `force_col_wise=true` to remove the overhead.\n",
      "[LightGBM] [Info] Total Bins 156723\n",
      "[LightGBM] [Info] Number of data points in the train set: 37266, number of used features: 674\n",
      "[LightGBM] [Info] Start training from score 13.482799\n",
      "[CV] END .......................lgbmregressor__num_leaves=70; total time=  16.7s\n",
      "[LightGBM] [Info] Auto-choosing col-wise multi-threading, the overhead of testing was 0.213251 seconds.\n",
      "You can set `force_col_wise=true` to remove the overhead.\n",
      "[LightGBM] [Info] Total Bins 153420\n",
      "[LightGBM] [Info] Number of data points in the train set: 37267, number of used features: 674\n",
      "[LightGBM] [Info] Start training from score 8.169855\n",
      "[CV] END .......................lgbmregressor__num_leaves=70; total time=  16.0s\n",
      "[LightGBM] [Info] Auto-choosing row-wise multi-threading, the overhead of testing was 0.121822 seconds.\n",
      "You can set `force_row_wise=true` to remove the overhead.\n",
      "And if memory is not enough, you can set `force_col_wise=true`.\n",
      "[LightGBM] [Info] Total Bins 155219\n",
      "[LightGBM] [Info] Number of data points in the train set: 37267, number of used features: 674\n",
      "[LightGBM] [Info] Start training from score 11.678268\n",
      "[CV] END .......................lgbmregressor__num_leaves=70; total time=  17.3s\n",
      "[LightGBM] [Info] Auto-choosing col-wise multi-threading, the overhead of testing was 0.222288 seconds.\n",
      "You can set `force_col_wise=true` to remove the overhead.\n",
      "[LightGBM] [Info] Total Bins 156723\n",
      "[LightGBM] [Info] Number of data points in the train set: 37266, number of used features: 674\n",
      "[LightGBM] [Info] Start training from score 13.482799\n",
      "[CV] END ......................lgbmregressor__num_leaves=256; total time=  40.6s\n",
      "[LightGBM] [Info] Auto-choosing row-wise multi-threading, the overhead of testing was 0.145830 seconds.\n",
      "You can set `force_row_wise=true` to remove the overhead.\n",
      "And if memory is not enough, you can set `force_col_wise=true`.\n",
      "[LightGBM] [Info] Total Bins 153420\n",
      "[LightGBM] [Info] Number of data points in the train set: 37267, number of used features: 674\n",
      "[LightGBM] [Info] Start training from score 8.169855\n",
      "[CV] END ......................lgbmregressor__num_leaves=256; total time=  39.7s\n",
      "[LightGBM] [Info] Auto-choosing col-wise multi-threading, the overhead of testing was 0.191501 seconds.\n",
      "You can set `force_col_wise=true` to remove the overhead.\n",
      "[LightGBM] [Info] Total Bins 155219\n",
      "[LightGBM] [Info] Number of data points in the train set: 37267, number of used features: 674\n",
      "[LightGBM] [Info] Start training from score 11.678268\n",
      "[CV] END ......................lgbmregressor__num_leaves=256; total time=  40.4s\n",
      "[LightGBM] [Info] Auto-choosing col-wise multi-threading, the overhead of testing was 0.302408 seconds.\n",
      "You can set `force_col_wise=true` to remove the overhead.\n",
      "[LightGBM] [Info] Total Bins 159913\n",
      "[LightGBM] [Info] Number of data points in the train set: 55900, number of used features: 674\n",
      "[LightGBM] [Info] Start training from score 11.110286\n",
      "Best Parameters: {'lgbmregressor__num_leaves': 50}\n",
      "Best Score (Negative MAE): -2.5693649275573294\n",
      "Test Set MAE: 3.223177653063996\n"
     ]
    }
   ],
   "source": [
    "import numpy as np\n",
    "from sklearn.model_selection import RandomizedSearchCV\n",
    "from sklearn.metrics import mean_absolute_error\n",
    "\n",
    "# Define the parameter grid for LGBMRegressor\n",
    "param_distributions = {\n",
    "    \"lgbmregressor__num_leaves\": [2, 50, 70, 256],\n",
    "    # \"lgbmregressor__max_depth\": [-1, 10, 20, 30],\n",
    "    # \"lgbmregressor__learning_rate\": [0.01, 0.05, 0.1, 0.2],\n",
    "    # \"lgbmregressor__n_estimators\": [100, 200, 500, 1000],\n",
    "    # \"lgbmregressor__min_child_samples\": [10, 20, 30, 50],\n",
    "    # \"lgbmregressor__subsample\": [0.6, 0.8, 1.0],\n",
    "    # \"lgbmregressor__colsample_bytree\": [0.6, 0.8, 1.0],\n",
    "    # \"lgbmregressor__reg_alpha\": [0, 0.1, 0.5, 1.0],\n",
    "    # \"lgbmregressor__reg_lambda\": [0, 0.1, 0.5, 1.0],\n",
    "    # \"lgbmregressor__feature_fraction\": [0.6, 0.7, 0.8, 0.9, 1.0], \n",
    "    # \"lgbmregressor__bagging_fraction\": [0.6, 0.7, 0.8, 0.9, 1.0], \n",
    "    # \"lgbmregressor__bagging_freq\": [1, 5, 10],\n",
    "}\n",
    "\n",
    "# Initialize the RandomizedSearchCV\n",
    "random_search = RandomizedSearchCV(\n",
    "    estimator=pipeline,\n",
    "    param_distributions=param_distributions,\n",
    "    n_iter=5,  # Number of parameter settings sampled\n",
    "    scoring=\"neg_mean_absolute_error\",  # Use MAE as the scoring metric\n",
    "    cv=3,  # 3-fold cross-validation\n",
    "    verbose=2,\n",
    "    random_state=42,\n",
    ")\n",
    "\n",
    "# Fit the RandomizedSearchCV on the training data\n",
    "random_search.fit(X_train, y_train)\n",
    "\n",
    "# Get the best parameters and the best score\n",
    "print(\"Best Parameters:\", random_search.best_params_)\n",
    "print(\"Best Score (Negative MAE):\", random_search.best_score_)\n",
    "\n",
    "# Evaluate the best model on the test set\n",
    "best_model = random_search.best_estimator_\n",
    "y_pred = best_model.predict(X_test)\n",
    "mae = mean_absolute_error(y_test, y_pred)\n",
    "print(\"Test Set MAE:\", mae)"
   ]
  },
  {
   "cell_type": "code",
   "execution_count": null,
   "id": "43cdf6d5-f275-46e4-be56-7832a89b5100",
   "metadata": {},
   "outputs": [],
   "source": []
  }
 ],
 "metadata": {
  "kernelspec": {
   "display_name": "Python 3 (ipykernel)",
   "language": "python",
   "name": "python3"
  },
  "language_info": {
   "codemirror_mode": {
    "name": "ipython",
    "version": 3
   },
   "file_extension": ".py",
   "mimetype": "text/x-python",
   "name": "python",
   "nbconvert_exporter": "python",
   "pygments_lexer": "ipython3",
   "version": "3.11.11"
  }
 },
 "nbformat": 4,
 "nbformat_minor": 5
}
